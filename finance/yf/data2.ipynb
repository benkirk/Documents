{
 "cells": [
  {
   "cell_type": "markdown",
   "metadata": {},
   "source": [
    "# Initialize Environment"
   ]
  },
  {
   "cell_type": "code",
   "execution_count": null,
   "metadata": {
    "tags": []
   },
   "outputs": [],
   "source": [
    "import matplotlib, matplotlib.pyplot as plt\n",
    "from matplotlib.font_manager import FontProperties\n",
    "import numpy as np\n",
    "from scipy.stats import norm\n",
    "from scipy.io import loadmat\n",
    "import glob\n",
    "import pandas as pd\n",
    "import datetime\n",
    "import pandas_datareader.tsp as tsp\n",
    "import pandas_datareader.data as pdr\n",
    "from pandas_datareader.yahoo.headers import DEFAULT_HEADERS\n",
    "import requests_cache\n",
    "#import yfinance as yf\n",
    "#yf.pdr_override() # https://pypi.org/project/yfinance/\n",
    "\n",
    "from copy import deepcopy\n",
    "from pandas.plotting import register_matplotlib_converters\n",
    "register_matplotlib_converters()\n",
    "\n",
    "# Seed Random number generator for repeatability\n",
    "np.random.seed(19690720)\n",
    "\n",
    "plt.style.use('default')\n",
    "#matplotlib.rcParams['font.family'] = 'serif'\n",
    "matplotlib.rcParams.update({'font.size': 18})"
   ]
  },
  {
   "cell_type": "markdown",
   "metadata": {},
   "source": [
    "# Load Data\n",
    "## Data Caches"
   ]
  },
  {
   "cell_type": "code",
   "execution_count": null,
   "metadata": {
    "tags": []
   },
   "outputs": [],
   "source": [
    "session = requests_cache.CachedSession(cache_name='cache', \n",
    "                                       backend='sqlite', \n",
    "                                       expire_after=datetime.timedelta(hours=8))\n",
    "session.headers = DEFAULT_HEADERS"
   ]
  },
  {
   "cell_type": "markdown",
   "metadata": {},
   "source": [
    "## TSP\n",
    "Load TSP data using the pandas_datareader utility. Allow for 8-hour persistent caching. "
   ]
  },
  {
   "cell_type": "code",
   "execution_count": null,
   "metadata": {
    "tags": []
   },
   "outputs": [],
   "source": [
    "tspreader = tsp.TSPReader(start=datetime.date.today() - datetime.timedelta(days=365*25),\n",
    "                          session=session)\n",
    "full_tspdata = tspreader.read()\n",
    "\n",
    "# write the TSP data, last 90 values, in reversed order\n",
    "full_tspdata.iloc[:400].to_excel('tsp_shareprices.xlsx', sheet_name='TSP Data')\n",
    "\n",
    "#print(full_tspdata)\n",
    "tspdata = full_tspdata.drop(['L Income', 'L 2025', 'L 2030', 'L 2035', 'L 2040', 'L 2045', 'L 2050', 'L 2055', 'L 2060', 'L 2065'],axis=1).iloc[::-1]"
   ]
  },
  {
   "cell_type": "markdown",
   "metadata": {},
   "source": [
    "## Vanguard"
   ]
  },
  {
   "cell_type": "code",
   "execution_count": null,
   "metadata": {
    "tags": []
   },
   "outputs": [],
   "source": [
    "try:\n",
    "    tickers\n",
    "except NameError:    \n",
    "    tickers = [ 'VTSAX', 'VSGAX', 'VGSLX', 'VHYAX', 'VTMSX', 'VTCLX', 'VTMFX', 'VBTLX', 'VWAHX', 'VGSTX', 'VIHAX', 'VWIGX' ]\n",
    "\n",
    "data = pdr.DataReader(\n",
    "        # tickers list or string as well\n",
    "        tickers, 'yahoo', session=session\n",
    "    )\n",
    "data.head()\n",
    "#rev_data = data.iloc[::-1]\n",
    "#rev_data.iloc[:800].to_excel('vg_shareprices.xlsx', sheet_name='ETF Data')"
   ]
  },
  {
   "cell_type": "code",
   "execution_count": null,
   "metadata": {},
   "outputs": [],
   "source": []
  },
  {
   "cell_type": "markdown",
   "metadata": {},
   "source": [
    "# Derived Data"
   ]
  },
  {
   "cell_type": "code",
   "execution_count": null,
   "metadata": {
    "tags": []
   },
   "outputs": [],
   "source": [
    "ddata = data['Close']\n",
    "ddata.head()"
   ]
  },
  {
   "cell_type": "code",
   "execution_count": null,
   "metadata": {
    "tags": []
   },
   "outputs": [],
   "source": []
  }
 ],
 "metadata": {
  "kernelspec": {
   "display_name": "Python 3",
   "language": "python",
   "name": "python3"
  },
  "language_info": {
   "codemirror_mode": {
    "name": "ipython",
    "version": 3
   },
   "file_extension": ".py",
   "mimetype": "text/x-python",
   "name": "python",
   "nbconvert_exporter": "python",
   "pygments_lexer": "ipython3",
   "version": "3.7.10"
  }
 },
 "nbformat": 4,
 "nbformat_minor": 4
}
