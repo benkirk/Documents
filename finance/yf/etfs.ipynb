{
 "cells": [
  {
   "cell_type": "markdown",
   "metadata": {},
   "source": [
    "# Initialize Environment"
   ]
  },
  {
   "cell_type": "code",
   "execution_count": null,
   "metadata": {},
   "outputs": [],
   "source": [
    "import matplotlib, matplotlib.pyplot as plt\n",
    "from matplotlib.font_manager import FontProperties\n",
    "import numpy as np\n",
    "from scipy.stats import norm\n",
    "from scipy.io import loadmat\n",
    "import glob\n",
    "import yfinance as yf\n",
    "import pandas as pd\n",
    "import datetime\n",
    "from copy import deepcopy\n",
    "from pandas.plotting import register_matplotlib_converters\n",
    "register_matplotlib_converters()\n",
    "\n",
    "# Seed Random number generator for repeatability\n",
    "np.random.seed(19690720)\n",
    "\n",
    "plt.style.use('default')\n",
    "matplotlib.rcParams['font.family'] = 'serif'\n",
    "matplotlib.rcParams.update({'font.size': 18})"
   ]
  },
  {
   "cell_type": "markdown",
   "metadata": {},
   "source": [
    "# Load Data"
   ]
  },
  {
   "cell_type": "code",
   "execution_count": null,
   "metadata": {},
   "outputs": [],
   "source": [
    "bonds   = ['EDV', 'BIV', 'VGIT', 'BLV', 'VGLT', 'VMBS', 'BSV', 'VTIP', 'VGSH', 'BND', 'VCIT', 'VCLT', 'VCSH', 'VTC', 'VTEB']\n",
    "intl    = ['VT', 'VSGX', 'VEU', 'VSS', 'VEA', 'VGK', 'VPL', 'VNQI', 'VIGI', 'VYMI', 'VXUS', 'VWO']\n",
    "sectors = ['VOX', 'VCR', 'VDC', 'VDE', 'VFH', 'VHT', 'VIS', 'VGT', 'VAW', 'VNQ', 'VPU']\n",
    "tickers = sectors + bonds\n",
    "\n",
    "data = yf.download(  # or pdr.get_data_yahoo(...\n",
    "        # tickers list or string as well\n",
    "        tickers = tickers,\n",
    "\n",
    "        # use \"period\" instead of start/end\n",
    "        # valid periods: 1d,5d,1mo,3mo,6mo,1y,2y,5y,10y,ytd,max\n",
    "        # (optional, default is '1mo')\n",
    "        period = \"2y\",\n",
    "\n",
    "        # fetch data by interval (including intraday if period < 60 days)\n",
    "        # valid intervals: 1m,2m,5m,15m,30m,60m,90m,1h,1d,5d,1wk,1mo,3mo\n",
    "        # (optional, default is '1d')\n",
    "        interval = \"1d\",\n",
    "\n",
    "        # group by ticker (to access via data['SPY'])\n",
    "        # (optional, default is 'column')\n",
    "        group_by = 'ticker',\n",
    "\n",
    "        # adjust all OHLC automatically\n",
    "        # (optional, default is False)\n",
    "        auto_adjust = True,\n",
    "\n",
    "        # download pre/post regular market hours data\n",
    "        # (optional, default is False)\n",
    "        prepost = False,\n",
    "\n",
    "        # use threads for mass downloading? (True/False/Integer)\n",
    "        # (optional, default is True)\n",
    "        threads = True,\n",
    "\n",
    "        # proxy URL scheme use use when downloading?\n",
    "        # (optional, default is None)\n",
    "        proxy = None\n",
    "    )\n",
    "\n",
    "print(data)\n",
    "ddata = data.swaplevel(0,1,axis=1).drop(['Open', 'High', 'Low', 'Volume'], axis=1)['Close']\n",
    "print(type(data), ddata)"
   ]
  },
  {
   "cell_type": "markdown",
   "metadata": {},
   "source": [
    "# Plot Data"
   ]
  },
  {
   "cell_type": "code",
   "execution_count": null,
   "metadata": {},
   "outputs": [],
   "source": [
    "# Compute the drawdown of an array, in place.\n",
    "def drawdown (array):\n",
    "    dd=deepcopy(array)\n",
    "    maxval=-1\n",
    "    for i in range(len(dd)):\n",
    "        idx = i\n",
    "        if array[idx] > maxval: maxval = array[idx]\n",
    "        dd[idx] = (array[idx]/maxval - 1.) * 100.\n",
    "    return dd\n",
    "\n",
    "close_prices = {}\n",
    "# Plot the prices & drawdowns over/under\n",
    "def plot_prices_dd(tickers, data, ax):\n",
    "    for t in tickers:\n",
    "        #print(t, data[t].columns)\n",
    "        #print(t, data[t])\n",
    "        close = data[t]['Close']\n",
    "        close_prices[t] = close\n",
    "        #print(type(close.index), type(close.values))\n",
    "        dd = drawdown(close.values)\n",
    "\n",
    "        ax[0].plot(close.index, close.values, label=t, linewidth=2.0)\n",
    "        ax[0].grid(b=True, which='major', color='#999999', linestyle='-')\n",
    "        ax[0].minorticks_on()\n",
    "        ax[0].grid(b=True, which='minor', color='#999999', linestyle='-', alpha=0.2)\n",
    "        ax[0].legend(fancybox=True, loc=2)\n",
    "\n",
    "        ax[1].plot(close.index, dd, label='{} ({:.2f}%)'.format(t,dd[-1]), linewidth=2.0)\n",
    "        ax[1].grid(b=True, which='major', color='#999999', linestyle='-')\n",
    "        ax[1].minorticks_on()\n",
    "        ax[1].grid(b=True, which='minor', color='#999999', linestyle='-', alpha=0.2)\n",
    "        ax[1].legend(fancybox=True, loc=3)\n",
    "        ax[1].set_xlim([datetime.date(2018, 1, 1), datetime.date.today()])\n",
    "        plt.xticks(rotation=60)\n",
    "    return\n",
    "\n",
    "\n",
    "\n",
    "###########################################    \n",
    "fig, ax  = plt.subplots(nrows=2, ncols=1,\n",
    "                        sharex=True, sharey=False,\n",
    "                        figsize=(12,8*2))\n",
    "\n",
    "plot_prices_dd(tickers, data, ax)\n",
    "\n",
    "\n",
    "\n",
    "#plt.show()\n",
    "fig.savefig('vg_etf_shareprices.pdf', bbox_inches='tight')"
   ]
  },
  {
   "cell_type": "markdown",
   "metadata": {},
   "source": [
    "# Correlations"
   ]
  },
  {
   "cell_type": "code",
   "execution_count": null,
   "metadata": {},
   "outputs": [],
   "source": [
    "corr = ddata.corr()"
   ]
  },
  {
   "cell_type": "code",
   "execution_count": null,
   "metadata": {},
   "outputs": [],
   "source": [
    "import seaborn as sns\n",
    "\n",
    "sns.set(style=\"white\")\n",
    "\n",
    "# Generate a mask for the upper triangle\n",
    "mask = np.triu(np.ones_like(corr, dtype=np.bool))\n",
    "\n",
    "# Set up the matplotlib figure\n",
    "f, ax = plt.subplots(figsize=(24, 24))\n",
    "\n",
    "# Generate a custom diverging colormap\n",
    "cmap = sns.diverging_palette(220, 10, as_cmap=True)\n",
    "\n",
    "# Draw the heatmap with the mask and correct aspect ratio\n",
    "sns.heatmap(corr, mask=None, center=0, vmin=-1, vmax=1, cmap=cmap, annot=True,\n",
    "            #xticklabels=False,\n",
    "            square=True, linewidths=.5, cbar_kws={\"shrink\": 0.75, \"orientation\": \"horizontal\"})\n",
    "#            square=True, linewidths=.5, )\n",
    "\n",
    "ax.set_xlabel(None)\n",
    "ax.set_ylabel(None)\n",
    "#ax.set_yticklabels([ item.get_text().strip('Close-') for item in ax.get_yticklabels() ])\n",
    "ax.set_xticklabels(\n",
    "    ax.get_yticklabels(),\n",
    "    rotation=45,\n",
    "    horizontalalignment='right')\n",
    "(bottom, top) = ax.get_ylim()\n",
    "ax.set_ylim(bottom + 0.5, top - 0.5)\n",
    "f.savefig('vg_etf_correlation.pdf', bbox_inches='tight')"
   ]
  },
  {
   "cell_type": "markdown",
   "metadata": {},
   "source": [
    "# Custom Heatmap"
   ]
  },
  {
   "cell_type": "code",
   "execution_count": null,
   "metadata": {},
   "outputs": [],
   "source": []
  }
 ],
 "metadata": {
  "kernelspec": {
   "display_name": "Python 3",
   "language": "python",
   "name": "python3"
  },
  "language_info": {
   "codemirror_mode": {
    "name": "ipython",
    "version": 3
   },
   "file_extension": ".py",
   "mimetype": "text/x-python",
   "name": "python",
   "nbconvert_exporter": "python",
   "pygments_lexer": "ipython3",
   "version": "3.7.4"
  }
 },
 "nbformat": 4,
 "nbformat_minor": 4
}
