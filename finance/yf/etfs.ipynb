{
 "cells": [
  {
   "cell_type": "markdown",
   "metadata": {},
   "source": [
    "# Initialize Environment"
   ]
  },
  {
   "cell_type": "code",
   "execution_count": 1,
   "metadata": {},
   "outputs": [],
   "source": [
    "from __future__ import print_function\n",
    "from ipywidgets import interact, interactive, fixed, interact_manual\n",
    "import ipywidgets as widgets"
   ]
  },
  {
   "cell_type": "markdown",
   "metadata": {},
   "source": [
    "# Load Data from Separate Notebook"
   ]
  },
  {
   "cell_type": "code",
   "execution_count": 2,
   "metadata": {},
   "outputs": [
    {
     "name": "stdout",
     "output_type": "stream",
     "text": [
      "[*********************100%***********************]  6 of 6 completed\n"
     ]
    }
   ],
   "source": [
    "bonds   = ['EDV', 'BIV', 'VGIT', 'BLV', 'VGLT', 'VMBS', 'BSV', 'VTIP', 'VGSH', 'BND', 'VCIT', 'VCLT', 'VCSH', 'VTC', 'VTEB']\n",
    "intl    = ['VT', 'VSGX', 'VEU', 'VSS', 'VEA', 'VGK', 'VPL', 'VNQI', 'VIGI', 'VYMI', 'VXUS', 'VWO']\n",
    "sectors = ['VOX', 'VCR', 'VDC', 'VDE', 'VFH', 'VHT', 'VIS', 'VGT', 'VAW', 'VNQ', 'VPU']\n",
    "tickers = sectors #+ bonds\n",
    "tickers = ['VTI', 'VUG', 'VBK', 'VYM', 'VYMI', 'VNQ', 'VOO', 'VXF']\n",
    "%run data.ipynb"
   ]
  },
  {
   "cell_type": "markdown",
   "metadata": {},
   "source": [
    "# Plot Data\n",
    "## Vanguard"
   ]
  },
  {
   "cell_type": "code",
   "execution_count": 3,
   "metadata": {},
   "outputs": [
    {
     "data": {
      "application/vnd.jupyter.widget-view+json": {
       "model_id": "c57357d3260e4f65802b7a6ab6300d40",
       "version_major": 2,
       "version_minor": 0
      },
      "text/plain": [
       "interactive(children=(Checkbox(value=False, description='logy'), DatePicker(value=None, description='Start Dat…"
      ]
     },
     "metadata": {},
     "output_type": "display_data"
    }
   ],
   "source": [
    "# Compute the drawdown of an array, in place.\n",
    "def drawdown (array):\n",
    "    dd=deepcopy(array)\n",
    "    maxval=-1\n",
    "    for i in range(len(dd)):\n",
    "        idx = i\n",
    "        if array[idx] > maxval: maxval = array[idx]\n",
    "        dd[idx] = (array[idx]/maxval - 1.) * 100.\n",
    "    return dd\n",
    "\n",
    "# Plot the prices & drawdowns over/under\n",
    "def plot_vg_prices_dd(tickers, \n",
    "                      data,\n",
    "                      logy,\n",
    "                      date_min, \n",
    "                      date_max,\n",
    "                      elapsed_days=-1):\n",
    "        \n",
    "    #print(data, len(data))\n",
    "    print(\"vg_data_range={} to {}\".format(data.index[0],\n",
    "                                          data.index[-1]))\n",
    "\n",
    "    if not date_max: date_max=datetime.date.today()\n",
    "    if not date_min: date_min=date_max - datetime.timedelta(days=2*365)\n",
    "    if elapsed_days > 1: date_min=date_max - datetime.timedelta(days=elapsed_days)\n",
    "        \n",
    "    tdelta = date_max - date_min\n",
    "    print(date_min, date_max, tdelta)\n",
    "    if tdelta > datetime.timedelta(days=50*365):\n",
    "        print(\"requested time delta > 50 years, resetting\")\n",
    "        return\n",
    "\n",
    "    fig, ax  = plt.subplots(nrows=2, ncols=1,\n",
    "                            sharex=True, sharey=False,\n",
    "                            figsize=(12,8*2))\n",
    "    \n",
    "    ax[0].set_title('Vanguard ETF Price, {} to {}'.format(date_min, date_max))\n",
    "    ax[1].set_title('Vanguard ETF Drawdowns, {} to {}'.format(date_min, date_max))\n",
    "    \n",
    "    for t in tickers:\n",
    "        #print(t, data[t].columns)\n",
    "        #print(t, data[t])\n",
    "        close = data[t]['Close']\n",
    "        #print(type(close.index), type(close.values))\n",
    "        dd = drawdown(close.values)\n",
    "\n",
    "        ax[0].plot(close.index, close.values, label='{} (${:.2f})'.format(t,close.values[-1]), linewidth=2.0)\n",
    "        ax[0].grid(b=True, which='major', color='#999999', linestyle='-')\n",
    "        ax[0].minorticks_on()\n",
    "        ax[0].grid(b=True, which='minor', color='#999999', linestyle='-', alpha=0.2)\n",
    "        ax[0].legend(fancybox=True, loc=2)\n",
    "        if logy: ax[0].set_yscale('log')\n",
    "\n",
    "        ax[1].plot(close.index, dd, label='{} ({:.1f}%)'.format(t,dd[-1]), linewidth=2.0)\n",
    "        ax[1].grid(b=True, which='major', color='#999999', linestyle='-')\n",
    "        ax[1].minorticks_on()\n",
    "        ax[1].grid(b=True, which='minor', color='#999999', linestyle='-', alpha=0.2)\n",
    "        ax[1].legend(fancybox=True, loc=3)\n",
    "        ax[1].set_xlim([date_min, date_max])\n",
    "        plt.xticks(rotation=60)\n",
    "    fig.savefig('vg_etf_shareprices.pdf', bbox_inches='tight')\n",
    "    return\n",
    "\n",
    "\n",
    "\n",
    "#plot_prices_dd(tickers, data)\n",
    "p = interact(plot_vg_prices_dd,\n",
    "             tickers=fixed(tickers), data=fixed(data),\n",
    "             logy=False,\n",
    "             date_min=widgets.DatePicker(description='Start Date', disabled=False),\n",
    "             date_max=widgets.DatePicker(description='End Date', disabled=False),\n",
    "             elapsed_days=widgets.IntSlider(min=-1, \n",
    "                                            max=min(15*365,len(data)), \n",
    "                                            step=1, value=-1,  \n",
    "                                            continuous_update=False))\n",
    "             "
   ]
  },
  {
   "cell_type": "markdown",
   "metadata": {},
   "source": [
    "# Correlations\n",
    "## Vanguard"
   ]
  },
  {
   "cell_type": "code",
   "execution_count": 4,
   "metadata": {},
   "outputs": [
    {
     "data": {
      "application/vnd.jupyter.widget-view+json": {
       "model_id": "4ad7bc0cc18646fa9086e213f584e9d7",
       "version_major": 2,
       "version_minor": 0
      },
      "text/plain": [
       "interactive(children=(IntText(value=100, description='# Days'), Output()), _dom_classes=('widget-interact',))"
      ]
     },
     "metadata": {},
     "output_type": "display_data"
    }
   ],
   "source": [
    "import seaborn as sns\n",
    "sns.set(style=\"white\")\n",
    "\n",
    "def vg_corr(num_days=None):\n",
    "    # Set up the matplotlib figure\n",
    "    fig, ax = plt.subplots(figsize=(10, 10))\n",
    "    \n",
    "    corr = ddata.iloc[-num_days:].corr() if num_days else ddata.corr()\n",
    "\n",
    "    title = 'Vanguard ETF Correlations'\n",
    "    if num_days: title += ' for Previous {} sessions'.format(num_days)\n",
    "    \n",
    "    ax.set_title(title)\n",
    "    \n",
    "    # Generate a mask for the upper triangle or diagonal\n",
    "    #mask = np.triu(np.ones_like(corr, dtype=np.bool))\n",
    "    mask = np.eye(len(corr))\n",
    "\n",
    "    # Generate a custom diverging colormap\n",
    "    cmap = sns.diverging_palette(220, 10, as_cmap=True)\n",
    "\n",
    "    # Draw the heatmap with the mask and correct aspect ratio\n",
    "    sns.heatmap(corr, mask=mask, center=0, vmin=-1, vmax=1, cmap=cmap, annot=True,\n",
    "                square=True, linewidths=.5, cbar_kws={\"shrink\": 0.5, \"orientation\": \"horizontal\"})\n",
    "\n",
    "    ax.set_xlabel(None)\n",
    "    ax.set_ylabel(None)\n",
    "    #ax.set_yticklabels([ item.get_text().strip('Close-') for item in ax.get_yticklabels() ])\n",
    "    ax.set_yticklabels(ax.get_yticklabels(),\n",
    "                       rotation=0,\n",
    "                       verticalalignment='center')\n",
    "    ax.set_xticklabels(ax.get_yticklabels(),\n",
    "                       rotation=45,\n",
    "                       horizontalalignment='right')\n",
    "    (bottom, top) = ax.get_ylim()\n",
    "    ax.set_ylim(bottom + 0.5, top - 0.5)\n",
    "    fig.savefig('vg_etf_correlation.pdf', bbox_inches='tight')\n",
    "    return\n",
    "\n",
    "\n",
    "#p = interact(vg_corr, \n",
    "#             num_days=widgets.IntSlider(min=10, \n",
    "#                                        max=min(5*365,len(ddata)), \n",
    "#                                        step=1, value=100, \n",
    "#                                        continuous_update=False))\n",
    "p = interact(vg_corr, \n",
    "             num_days=widgets.IntText(value=100, description='# Days'))"
   ]
  },
  {
   "cell_type": "code",
   "execution_count": null,
   "metadata": {},
   "outputs": [],
   "source": []
  }
 ],
 "metadata": {
  "kernelspec": {
   "display_name": "Python 3",
   "language": "python",
   "name": "python3"
  },
  "language_info": {
   "codemirror_mode": {
    "name": "ipython",
    "version": 3
   },
   "file_extension": ".py",
   "mimetype": "text/x-python",
   "name": "python",
   "nbconvert_exporter": "python",
   "pygments_lexer": "ipython3",
   "version": "3.7.3"
  }
 },
 "nbformat": 4,
 "nbformat_minor": 4
}
