{
 "cells": [
  {
   "cell_type": "markdown",
   "metadata": {},
   "source": [
    "# Initialize Environment"
   ]
  },
  {
   "cell_type": "code",
   "execution_count": null,
   "metadata": {
    "tags": []
   },
   "outputs": [],
   "source": [
    "import matplotlib, matplotlib.pyplot as plt\n",
    "from matplotlib.font_manager import FontProperties\n",
    "import numpy as np\n",
    "from scipy.stats import norm\n",
    "from scipy.io import loadmat\n",
    "import glob\n",
    "import pandas as pd\n",
    "import datetime\n",
    "import pandas_datareader.tsp as tsp\n",
    "import pandas_datareader.data as pdr\n",
    "import pandas_datareader.yahoo.daily as ydr\n",
    "from pandas_datareader.yahoo.headers import DEFAULT_HEADERS\n",
    "import requests_cache\n",
    "use_yf = True\n",
    "if use_yf:\n",
    "    import yfinance as yf\n",
    "    yf.pdr_override() # https://pypi.org/project/yfinance/\n",
    "\n",
    "from copy import deepcopy\n",
    "from pandas.plotting import register_matplotlib_converters\n",
    "register_matplotlib_converters()\n",
    "\n",
    "# Seed Random number generator for repeatability\n",
    "np.random.seed(19690720)\n",
    "\n",
    "plt.style.use('default')\n",
    "#matplotlib.rcParams['font.family'] = 'serif'\n",
    "matplotlib.rcParams.update({'font.size': 18})"
   ]
  },
  {
   "cell_type": "markdown",
   "metadata": {},
   "source": [
    "# Load Data\n",
    "## Data Caches"
   ]
  },
  {
   "cell_type": "code",
   "execution_count": null,
   "metadata": {
    "tags": []
   },
   "outputs": [],
   "source": [
    "session = requests_cache.CachedSession(cache_name='cache', \n",
    "                                       backend='sqlite', \n",
    "                                       expire_after=datetime.timedelta(hours=8))\n",
    "session.headers = DEFAULT_HEADERS"
   ]
  },
  {
   "cell_type": "markdown",
   "metadata": {},
   "source": [
    "## TSP\n",
    "Load TSP data using the pandas_datareader utility. Allow for 8-hour persistent caching. "
   ]
  },
  {
   "cell_type": "code",
   "execution_count": null,
   "metadata": {
    "tags": []
   },
   "outputs": [],
   "source": [
    "if False:\n",
    "    tspreader = tsp.TSPReader(start=datetime.date.today() - datetime.timedelta(days=365*25),\n",
    "                              session=session)\n",
    "    full_tspdata = tspreader.read()\n",
    "\n",
    "    # write the TSP data, last 90 values, in reversed order\n",
    "    full_tspdata.iloc[:400].to_excel('tsp_shareprices.xlsx', sheet_name='TSP Data')\n",
    "\n",
    "    #print(full_tspdata)\n",
    "    tspdata = full_tspdata.drop(['L Income', 'L 2025', 'L 2030', 'L 2035', 'L 2040', 'L 2045', 'L 2050', 'L 2055', 'L 2060', 'L 2065'],axis=1).iloc[::-1]"
   ]
  },
  {
   "cell_type": "markdown",
   "metadata": {},
   "source": [
    "## Vanguard"
   ]
  },
  {
   "cell_type": "code",
   "execution_count": null,
   "metadata": {
    "tags": []
   },
   "outputs": [],
   "source": [
    "write_xlsx = False\n",
    "try:\n",
    "    tickers\n",
    "except NameError:    \n",
    "    #tickers = [ 'VTSAX', 'VSGAX', 'VGSLX', 'VHYAX', 'VTMSX', 'VTCLX', 'VTMFX', 'VBTLX', 'VWAHX', 'VGSTX', 'VIHAX', 'VWIGX' ]\n",
    "    tickers = [ 'VINIX', 'VSGIX', 'VSIIX', 'VTSNX', 'VBTIX', 'VGSNX', 'VTSAX' ]\n",
    "    write_xlsx = True\n",
    "    \n",
    "# old API - requires yfinance & yf.pdr_override()    \n",
    "if use_yf:\n",
    "    data = pdr.get_data_yahoo(\n",
    "            # tickers list or string as well\n",
    "            tickers = tickers,\n",
    "\n",
    "            # use \"period\" instead of start/end\n",
    "            # valid periods: 1d,5d,1mo,3mo,6mo,1y,2y,5y,10y,ytd,max\n",
    "            # (optional, default is '1mo')\n",
    "            period = \"max\",\n",
    "\n",
    "            # fetch data by interval (including intraday if period < 60 days\n",
    "            # valid intervals: 1m,2m,5m,15m,30m,60m,90m,1h,1d,5d,1wk,1mo,3mo\n",
    "            # (optional, default is '1d')\n",
    "            interval = \"1d\",\n",
    "\n",
    "            # group by ticker (to access via data['SPY'])\n",
    "            # (optional, default is 'column')\n",
    "            group_by = 'column',\n",
    "\n",
    "            # adjust all OHLC automatically (open, high, low, close) for dividends & splits\n",
    "            # (optional, default is False)\n",
    "            auto_adjust = True,\n",
    "        \n",
    "            # Whether to ignore timezone when aligning ticker data from \n",
    "            # different timezones. Default is False.\n",
    "            ignore_tz = True,\n",
    "\n",
    "            # download pre/post regular market hours data\n",
    "            # (optional, default is False)\n",
    "            prepost = False,\n",
    "\n",
    "            # use threads for mass downloading? (True/False/Integer)\n",
    "            # (optional, default is True)\n",
    "            threads = True,\n",
    "\n",
    "            # proxy URL scheme use use when downloading?\n",
    "            # (optional, default is None)\n",
    "            proxy = None\n",
    "        )\n",
    "    \n",
    "else:\n",
    "    data = pdr.get_data_yahoo(\n",
    "            # tickers list or string as well\n",
    "            symbols = tickers,\n",
    "\n",
    "            # use \"period\" instead of start/end\n",
    "            # valid periods: 1d,5d,1mo,3mo,6mo,1y,2y,5y,10y,ytd,max\n",
    "            # (optional, default is '1mo')\n",
    "            #period = \"max\",\n",
    "\n",
    "            # fetch data by interval (including intraday if period < 60 days\n",
    "            # valid intervals: 1m,2m,5m,15m,30m,60m,90m,1h,1d,5d,1wk,1mo,3mo\n",
    "            # (optional, default is '1d')\n",
    "            interval = 'd',\n",
    "\n",
    "            # group by ticker (to access via data['SPY'])\n",
    "            # (optional, default is 'column')\n",
    "            #group_by = 'column',\n",
    "\n",
    "            # adjust all OHLC automatically (open, high, low, close) for dividends & splits\n",
    "            # (optional, default is False)\n",
    "            #auto_adjust = True,\n",
    "\n",
    "            # download pre/post regular market hours data\n",
    "            # (optional, default is False)\n",
    "            #prepost = False,\n",
    "\n",
    "            # use threads for mass downloading? (True/False/Integer)\n",
    "            # (optional, default is True)\n",
    "            #threads = True,\n",
    "\n",
    "            # proxy URL scheme use use when downloading?\n",
    "            # (optional, default is None)\n",
    "            #proxy = None\n",
    "        )\n",
    "\n",
    "# remove timezone info\n",
    "# https://stackoverflow.com/questions/17159207/change-timezone-of-date-time-column-in-pandas-and-add-as-hierarchical-index\n",
    "# data.index = data.index.tz_convert(None)\n",
    "\n",
    "#print(data.head())\n",
    "if write_xlsx:\n",
    "    rev_data = data['Close'].iloc[::-1]    \n",
    "    rev_data.iloc[:800].to_excel('vg_shareprices.xlsx', sheet_name='VG Data')"
   ]
  },
  {
   "cell_type": "markdown",
   "metadata": {},
   "source": [
    "# Derived Data"
   ]
  },
  {
   "cell_type": "code",
   "execution_count": null,
   "metadata": {
    "tags": []
   },
   "outputs": [],
   "source": [
    "ddata = data['Close'].iloc[::-1]  \n",
    "ddata.head()"
   ]
  },
  {
   "cell_type": "code",
   "execution_count": null,
   "metadata": {
    "tags": []
   },
   "outputs": [],
   "source": []
  },
  {
   "cell_type": "code",
   "execution_count": null,
   "metadata": {},
   "outputs": [],
   "source": []
  }
 ],
 "metadata": {
  "kernelspec": {
   "display_name": "Python 3 (ipykernel)",
   "language": "python",
   "name": "python3"
  },
  "language_info": {
   "codemirror_mode": {
    "name": "ipython",
    "version": 3
   },
   "file_extension": ".py",
   "mimetype": "text/x-python",
   "name": "python",
   "nbconvert_exporter": "python",
   "pygments_lexer": "ipython3",
   "version": "3.10.8"
  }
 },
 "nbformat": 4,
 "nbformat_minor": 4
}
