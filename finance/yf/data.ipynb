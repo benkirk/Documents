{
 "cells": [
  {
   "cell_type": "markdown",
   "metadata": {},
   "source": [
    "# Initialize Environment"
   ]
  },
  {
   "cell_type": "code",
   "execution_count": null,
   "metadata": {},
   "outputs": [],
   "source": [
    "import matplotlib, matplotlib.pyplot as plt\n",
    "from matplotlib.font_manager import FontProperties\n",
    "import numpy as np\n",
    "from scipy.stats import norm\n",
    "from scipy.io import loadmat\n",
    "import glob\n",
    "import pandas as pd\n",
    "import datetime\n",
    "import pandas_datareader.tsp as tsp\n",
    "import pandas_datareader.data as pdr\n",
    "import requests_cache\n",
    "import yfinance as yf\n",
    "yf.pdr_override() # https://pypi.org/project/yfinance/\n",
    "\n",
    "from copy import deepcopy\n",
    "from pandas.plotting import register_matplotlib_converters\n",
    "register_matplotlib_converters()\n",
    "\n",
    "# Seed Random number generator for repeatability\n",
    "np.random.seed(19690720)\n",
    "\n",
    "plt.style.use('default')\n",
    "#matplotlib.rcParams['font.family'] = 'serif'\n",
    "matplotlib.rcParams.update({'font.size': 18})"
   ]
  },
  {
   "cell_type": "markdown",
   "metadata": {},
   "source": [
    "# Load Data\n",
    "## Data Caches"
   ]
  },
  {
   "cell_type": "code",
   "execution_count": null,
   "metadata": {},
   "outputs": [],
   "source": [
    "session = requests_cache.CachedSession(cache_name='cache', \n",
    "                                       backend='sqlite', \n",
    "                                       expire_after=datetime.timedelta(hours=8))"
   ]
  },
  {
   "cell_type": "markdown",
   "metadata": {},
   "source": [
    "## Vanguard"
   ]
  },
  {
   "cell_type": "code",
   "execution_count": null,
   "metadata": {},
   "outputs": [],
   "source": [
    "try:\n",
    "    tickers\n",
    "except NameError:    \n",
    "    tickers = [ 'VTSAX', 'VSGAX', 'VGSLX', 'VHYAX', 'VTMSX', 'VTCLX', 'VTMFX', 'VBTLX', 'VWAHX', 'VGSTX', 'VIHAX', 'VWIGX' ]\n",
    "\n",
    "data = pdr.get_data_yahoo(\n",
    "        # tickers list or string as well\n",
    "        tickers = tickers,\n",
    "\n",
    "        # use \"period\" instead of start/end\n",
    "        # valid periods: 1d,5d,1mo,3mo,6mo,1y,2y,5y,10y,ytd,max\n",
    "        # (optional, default is '1mo')\n",
    "        period = \"max\",\n",
    "\n",
    "        # fetch data by interval (including intraday if period < 60 days)\n",
    "        # valid intervals: 1m,2m,5m,15m,30m,60m,90m,1h,1d,5d,1wk,1mo,3mo\n",
    "        # (optional, default is '1d')\n",
    "        interval = \"1d\",\n",
    "\n",
    "        # group by ticker (to access via data['SPY'])\n",
    "        # (optional, default is 'column')\n",
    "        group_by = 'ticker',\n",
    "\n",
    "        # adjust all OHLC automatically\n",
    "        # (optional, default is False)\n",
    "        auto_adjust = True,\n",
    "\n",
    "        # download pre/post regular market hours data\n",
    "        # (optional, default is False)\n",
    "        prepost = False,\n",
    "\n",
    "        # use threads for mass downloading? (True/False/Integer)\n",
    "        # (optional, default is True)\n",
    "        threads = True,\n",
    "\n",
    "        # proxy URL scheme use use when downloading?\n",
    "        # (optional, default is None)\n",
    "        proxy = None,\n",
    "    \n",
    "        # session cache\n",
    "        session = session\n",
    "    )"
   ]
  },
  {
   "cell_type": "markdown",
   "metadata": {},
   "source": [
    "## TSP\n",
    "Load TSP data using the pandas_datareader utility. Allow for 8-hour persistent caching. "
   ]
  },
  {
   "cell_type": "code",
   "execution_count": null,
   "metadata": {},
   "outputs": [],
   "source": [
    "tspreader = tsp.TSPReader(start=datetime.date.today() - datetime.timedelta(days=365*25),\n",
    "                          session=session)\n",
    "full_tspdata = tspreader.read()\n",
    "\n",
    "# write the TSP data, last 90 values, in reversed order\n",
    "#full_tspdata.iloc[-90:].iloc[::-1].to_excel('tsp_shareprices.xls', sheet_name='TSP Data')\n",
    "\n",
    "#tspdata = full_tspdata.drop(['L 2025', 'L 2030', 'L 2035', 'L 2040', 'L 2045', 'L 2050', 'L 2055', 'L 2060', 'L 2065'],axis=1)\n",
    "tspdata = full_tspdata"
   ]
  },
  {
   "cell_type": "markdown",
   "metadata": {},
   "source": [
    "# Derived Data"
   ]
  },
  {
   "cell_type": "code",
   "execution_count": null,
   "metadata": {},
   "outputs": [],
   "source": [
    "#print(data)\n",
    "import warnings\n",
    "warnings.simplefilter(action='ignore', category=pd.errors.PerformanceWarning)\n",
    "ddata = data.swaplevel(0,1,axis=1).drop(['Open', 'High', 'Low', 'Volume'], axis=1)['Close']\n",
    "#print(type(data), data.columns, ddata.columns)\n",
    "\n",
    "#print(type(tspdata), tspdata, tspdata.columns)"
   ]
  },
  {
   "cell_type": "code",
   "execution_count": null,
   "metadata": {},
   "outputs": [],
   "source": []
  }
 ],
 "metadata": {
  "kernelspec": {
   "display_name": "Python 3",
   "language": "python",
   "name": "python3"
  },
  "language_info": {
   "codemirror_mode": {
    "name": "ipython",
    "version": 3
   },
   "file_extension": ".py",
   "mimetype": "text/x-python",
   "name": "python",
   "nbconvert_exporter": "python",
   "pygments_lexer": "ipython3",
   "version": "3.7.3"
  }
 },
 "nbformat": 4,
 "nbformat_minor": 4
}
