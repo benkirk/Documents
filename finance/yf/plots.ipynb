{
 "cells": [
  {
   "cell_type": "markdown",
   "metadata": {},
   "source": [
    "# Initialize Environment"
   ]
  },
  {
   "cell_type": "code",
   "execution_count": 1,
   "metadata": {},
   "outputs": [],
   "source": [
    "from __future__ import print_function\n",
    "from ipywidgets import interact, interactive, fixed, interact_manual\n",
    "import ipywidgets as widgets"
   ]
  },
  {
   "cell_type": "code",
   "execution_count": 2,
   "metadata": {},
   "outputs": [],
   "source": [
    "# Compute the drawdown of an array, in place.\n",
    "def drawdown (array):\n",
    "    dd=deepcopy(array)\n",
    "    maxval=-1\n",
    "    for i in range(len(dd)):\n",
    "        idx = i\n",
    "        if array[idx] > maxval: maxval = array[idx]\n",
    "        dd[idx] = (array[idx]/maxval - 1.) * 100.\n",
    "    return dd"
   ]
  },
  {
   "cell_type": "markdown",
   "metadata": {},
   "source": [
    "# Load Data from Separate Notebook"
   ]
  },
  {
   "cell_type": "code",
   "execution_count": 3,
   "metadata": {},
   "outputs": [
    {
     "name": "stdout",
     "output_type": "stream",
     "text": [
      "[*********************100%***********************]  7 of 7 completed\n"
     ]
    }
   ],
   "source": [
    "%run data.ipynb"
   ]
  },
  {
   "cell_type": "markdown",
   "metadata": {},
   "source": [
    "# Plot Data\n",
    "## Vanguard"
   ]
  },
  {
   "cell_type": "code",
   "execution_count": 4,
   "metadata": {},
   "outputs": [
    {
     "data": {
      "application/vnd.jupyter.widget-view+json": {
       "model_id": "7919c610e24e48ce876fb26203b013ae",
       "version_major": 2,
       "version_minor": 0
      },
      "text/plain": [
       "interactive(children=(SelectMultiple(description='Tickers', index=(0, 1, 2, 3, 4, 5, 6), options=('VINIX', 'VS…"
      ]
     },
     "metadata": {},
     "output_type": "display_data"
    }
   ],
   "source": [
    "# Plot the prices & drawdowns over/under\n",
    "def plot_vg_prices_dd(tickers, \n",
    "                      data,\n",
    "                      logy,\n",
    "                      date_min, \n",
    "                      date_max,\n",
    "                      elapsed_days=-1):\n",
    "        \n",
    "    #print(data, len(data))\n",
    "    print(\"vg_data_range={} to {}\".format(data.index[0],\n",
    "                                          data.index[-1]))\n",
    "\n",
    "    if not date_max: date_max=datetime.date.today()\n",
    "    if not date_min: date_min=date_max - datetime.timedelta(days=2*365)\n",
    "    if elapsed_days > 1: date_min=date_max - datetime.timedelta(days=elapsed_days)\n",
    "        \n",
    "    tdelta = date_max - date_min\n",
    "    print(date_min, date_max, tdelta)\n",
    "    if tdelta > datetime.timedelta(days=50*365):\n",
    "        print(\"requested time delta > 50 years, resetting\")\n",
    "        return\n",
    "\n",
    "    fig, ax  = plt.subplots(nrows=2, ncols=1,\n",
    "                            sharex=True, sharey=False,\n",
    "                            figsize=(12,8*2))\n",
    "    \n",
    "    ax[0].set_title('Vanguard Fund Price, {} to {}'.format(date_min, date_max))\n",
    "    ax[1].set_title('Vanguard Fund Drawdowns, {} to {}'.format(date_min, date_max))\n",
    "    \n",
    "    for t in tickers:\n",
    "        #print(t, data[t].columns)\n",
    "        #print(t, data[t])\n",
    "        close = data['Close'][t]\n",
    "        #print(type(close.index), type(close.values))\n",
    "        dd = drawdown(close.values)\n",
    "\n",
    "        ax[0].plot(close.index, close.values, label='{} (${:.2f})'.format(t,close.values[-1]), linewidth=2.0)\n",
    "        ax[0].grid(visible=True, which='major', color='#999999', linestyle='-')\n",
    "        ax[0].minorticks_on()\n",
    "        ax[0].grid(visible=True, which='minor', color='#999999', linestyle='-', alpha=0.2)\n",
    "        ax[0].legend(fancybox=True, loc=2)\n",
    "        if logy: ax[0].set_yscale('log')\n",
    "\n",
    "        ax[1].plot(close.index, dd, label='{} ({:.1f}%)'.format(t,dd[-1]), linewidth=2.0)\n",
    "        ax[1].grid(visible=True, which='major', color='#999999', linestyle='-')\n",
    "        ax[1].minorticks_on()\n",
    "        ax[1].grid(visible=True, which='minor', color='#999999', linestyle='-', alpha=0.2)\n",
    "        ax[1].legend(fancybox=True, loc=3)\n",
    "        ax[1].set_xlim([date_min, date_max])\n",
    "        plt.xticks(rotation=60)\n",
    "    fig.savefig('vg_shareprices.pdf', bbox_inches='tight')\n",
    "    return\n",
    "\n",
    "\n",
    "w = widgets.SelectMultiple(\n",
    "    options=tickers,\n",
    "    value=tickers,\n",
    "    #rows=10,\n",
    "    description='Tickers',\n",
    "    disabled=False)\n",
    "\n",
    "#plot_prices_dd(tickers, data)\n",
    "p = interact(plot_vg_prices_dd,\n",
    "             tickers=w, data=fixed(data),\n",
    "             logy=False,\n",
    "             date_min=widgets.DatePicker(description='Start Date', disabled=False),\n",
    "             date_max=widgets.DatePicker(description='End Date', disabled=False),\n",
    "             elapsed_days=widgets.IntSlider(min=-1, \n",
    "                                            max=min(15*365,len(data)), \n",
    "                                            step=1, value=-1,  \n",
    "                                            continuous_update=False))"
   ]
  },
  {
   "cell_type": "markdown",
   "metadata": {},
   "source": [
    "## TSP"
   ]
  },
  {
   "cell_type": "code",
   "execution_count": 5,
   "metadata": {},
   "outputs": [],
   "source": [
    "# Plot the prices & drawdowns over/under\n",
    "def plot_tsp_prices_dd(tsp_tickers,\n",
    "                       tspdata,\n",
    "                       logy,\n",
    "                       date_min,\n",
    "                       date_max,\n",
    "                       elapsed_days=-1):\n",
    "    \n",
    "    #print(tspdata, len(tspdata))\n",
    "    print(\"tsp_data_range={} to {}\".format(tspdata.index[0],\n",
    "                                           tspdata.index[-1]))\n",
    "\n",
    "    if not date_max: date_max=datetime.date.today()\n",
    "    if not date_min: date_min=date_max - datetime.timedelta(days=2*365)\n",
    "    if elapsed_days > 1: date_min=date_max - datetime.timedelta(days=elapsed_days)\n",
    "        \n",
    "    tdelta = date_max - date_min\n",
    "    print(date_min, date_max, tdelta)\n",
    "    if tdelta > datetime.timedelta(days=50*365):\n",
    "        print(\"requested time delta > 50 years, resetting\")\n",
    "        return\n",
    "    \n",
    "    fig, ax  = plt.subplots(nrows=2, ncols=1,\n",
    "                            sharex=True, sharey=False,\n",
    "                            figsize=(12,8*2))\n",
    "    \n",
    "    ax[0].set_title('TSP Fund Price, {} to {}'.format(date_min, date_max))\n",
    "    ax[1].set_title('TSP Fund Drawdowns, {} to {}'.format(date_min, date_max))\n",
    "\n",
    "   \n",
    "    for c in tsp_tickers:\n",
    "        if not c: continue\n",
    "        close = tspdata[c]\n",
    "        #print(type(close.index), type(close.values))\n",
    "        #print(close)\n",
    "        dd = drawdown(close.values)\n",
    "\n",
    "        ax[0].plot(close.index, close.values, label='{} (${:.4f})'.format(c,close.values[-1]), linewidth=2.0)\n",
    "        ax[0].grid(visible=True, which='major', color='#999999', linestyle='-')\n",
    "        ax[0].minorticks_on()\n",
    "        ax[0].grid(visible=True, which='minor', color='#999999', linestyle='-', alpha=0.2)\n",
    "        ax[0].legend(fancybox=True, loc=2)\n",
    "        if logy: ax[0].set_yscale('log')\n",
    "\n",
    "        #if 'G Fund' in c: continue\n",
    "        ax[1].plot(close.index, dd, label='{} ({:.1f}%)'.format(c,dd[-1]), linewidth=2.0)\n",
    "        ax[1].grid(visible=True, which='major', color='#999999', linestyle='-')\n",
    "        ax[1].minorticks_on()\n",
    "        ax[1].grid(visible=True, which='minor', color='#999999', linestyle='-', alpha=0.2)\n",
    "        ax[1].legend(fancybox=True, loc=3)\n",
    "        ax[1].set_xlim([date_min, date_max])\n",
    "        plt.xticks(rotation=60)\n",
    "    fig.savefig('tsp_shareprices.pdf', bbox_inches='tight')\n",
    "    return\n",
    "\n",
    "if False:\n",
    "    w = widgets.SelectMultiple(options=tuple(tspdata.columns),\n",
    "                               value=tuple(tspdata.columns),\n",
    "                               #rows=10,\n",
    "                               description='Tickers',\n",
    "                               disabled=False) \n",
    "\n",
    "    #plot_tsp_prices_dd(tspdata, ax)\n",
    "    p = interact(plot_tsp_prices_dd,\n",
    "                 tsp_tickers=w, tspdata=fixed(tspdata),\n",
    "                 logy=False,\n",
    "                 date_min=widgets.DatePicker(description='Start Date', disabled=False),\n",
    "                 date_max=widgets.DatePicker(description='End Date',   disabled=False),\n",
    "                 elapsed_days=widgets.IntSlider(min=-1, \n",
    "                                                max=len(tspdata), \n",
    "                                                step=1, value=-1,  \n",
    "                                                continuous_update=False))"
   ]
  },
  {
   "cell_type": "markdown",
   "metadata": {},
   "source": [
    "# Correlations\n",
    "## Vanguard"
   ]
  },
  {
   "cell_type": "code",
   "execution_count": 6,
   "metadata": {},
   "outputs": [
    {
     "data": {
      "application/vnd.jupyter.widget-view+json": {
       "model_id": "1dedf9af78394cc08480d8e9d076f06b",
       "version_major": 2,
       "version_minor": 0
      },
      "text/plain": [
       "interactive(children=(IntText(value=100, description='# Days'), Output()), _dom_classes=('widget-interact',))"
      ]
     },
     "metadata": {},
     "output_type": "display_data"
    }
   ],
   "source": [
    "import seaborn as sns\n",
    "sns.set(style=\"white\")\n",
    "\n",
    "def vg_corr(num_days=None):\n",
    "    # Set up the matplotlib figure\n",
    "    fig, ax = plt.subplots(figsize=(10, 10))\n",
    "    \n",
    "    corr = ddata.iloc[-num_days:].corr() if num_days else ddata.corr()\n",
    "\n",
    "    title = 'Vanguard Fund Correlations'\n",
    "    if num_days: title += ' for Previous {} sessions'.format(num_days)\n",
    "    \n",
    "    ax.set_title(title)\n",
    "    \n",
    "    # Generate a mask for the upper triangle or diagonal\n",
    "    #mask = np.triu(np.ones_like(corr, dtype=np.bool))\n",
    "    mask = np.eye(len(corr))\n",
    "\n",
    "    # Generate a custom diverging colormap\n",
    "    cmap = sns.diverging_palette(220, 10, as_cmap=True)\n",
    "\n",
    "    # Draw the heatmap with the mask and correct aspect ratio\n",
    "    sns.heatmap(corr, mask=mask, center=0, vmin=-1, vmax=1, cmap=cmap, annot=True,\n",
    "                square=True, linewidths=.5, cbar_kws={\"shrink\": 0.5, \"orientation\": \"horizontal\"})\n",
    "\n",
    "    ax.set_xlabel(None)\n",
    "    ax.set_ylabel(None)\n",
    "    #ax.set_yticklabels([ item.get_text().strip('Close-') for item in ax.get_yticklabels() ])\n",
    "    ax.set_yticklabels(ax.get_yticklabels(),\n",
    "                       rotation=0,\n",
    "                       verticalalignment='center')\n",
    "    ax.set_xticklabels(ax.get_yticklabels(),\n",
    "                       rotation=45,\n",
    "                       horizontalalignment='right')\n",
    "    (bottom, top) = ax.get_ylim()\n",
    "    ax.set_ylim(bottom + 0.5, top - 0.5)\n",
    "    fig.savefig('vg_correlation.pdf', bbox_inches='tight')\n",
    "    return\n",
    "\n",
    "\n",
    "#p = interact(vg_corr, \n",
    "#             num_days=widgets.IntSlider(min=10, \n",
    "#                                        max=min(5*365,len(ddata)), \n",
    "#                                        step=1, value=100, \n",
    "#                                        continuous_update=False))\n",
    "p = interact(vg_corr, \n",
    "             num_days=widgets.IntText(value=100, description='# Days'))"
   ]
  },
  {
   "cell_type": "markdown",
   "metadata": {},
   "source": [
    "## TSP"
   ]
  },
  {
   "cell_type": "code",
   "execution_count": 7,
   "metadata": {},
   "outputs": [],
   "source": [
    "def tsp_corr(num_days=None):\n",
    "    # Set up the matplotlib figure\n",
    "    fig, ax = plt.subplots(figsize=(10, 10))\n",
    "\n",
    "    corr = tspdata.iloc[-num_days:].corr() if num_days else tspdata.corr()\n",
    "\n",
    "    title = 'TSP Fund Correlations'\n",
    "    if num_days: title += ' for Previous {} sessions'.format(num_days)\n",
    "    \n",
    "    ax.set_title(title)\n",
    "\n",
    "    # Generate a mask for the upper triangle or diagonal\n",
    "    #mask = np.triu(np.ones_like(corr, dtype=np.bool))\n",
    "    mask = np.eye(len(corr))\n",
    "\n",
    "    # Generate a custom diverging colormap\n",
    "    cmap = sns.diverging_palette(220, 10, as_cmap=True)\n",
    "\n",
    "    # Draw the heatmap with the mask and correct aspect ratio\n",
    "    sns.heatmap(corr, mask=mask, center=0., vmin=-1, vmax=1, cmap=cmap, annot=True,\n",
    "                square=True, linewidths=.5, cbar_kws={\"shrink\": 0.5, \"orientation\": \"horizontal\"})\n",
    "\n",
    "\n",
    "    ax.set_xlabel(None)\n",
    "    ax.set_ylabel(None)\n",
    "    #ax.set_yticklabels([ item.get_text().strip('Close-') for item in ax.get_yticklabels() ])\n",
    "    ax.set_yticklabels(ax.get_yticklabels(),\n",
    "                       verticalalignment='center')\n",
    "    ax.set_xticklabels(ax.get_yticklabels(),\n",
    "                       rotation=45,\n",
    "                       horizontalalignment='right')\n",
    "    (bottom, top) = ax.get_ylim()\n",
    "    ax.set_ylim(bottom + 0.5, top - 0.5)\n",
    "    fig.savefig('tsp_correlation.pdf', bbox_inches='tight')\n",
    "    return\n",
    "\n",
    "if False:\n",
    "    p = interact(tsp_corr, \n",
    "                 num_days=widgets.IntText(value=100, description='# Days'))"
   ]
  },
  {
   "cell_type": "markdown",
   "metadata": {},
   "source": [
    "# Same for ETFs, which can be run separately."
   ]
  },
  {
   "cell_type": "code",
   "execution_count": 8,
   "metadata": {},
   "outputs": [
    {
     "name": "stdout",
     "output_type": "stream",
     "text": [
      "[*********************100%***********************]  12 of 12 completed\n"
     ]
    },
    {
     "data": {
      "application/vnd.jupyter.widget-view+json": {
       "model_id": "8fcf9e801822431f9f1b62e6c0a4aed1",
       "version_major": 2,
       "version_minor": 0
      },
      "text/plain": [
       "interactive(children=(SelectMultiple(description='Tickers', index=(0, 1, 2, 3, 4, 5, 6, 7, 8, 9, 10, 11), opti…"
      ]
     },
     "metadata": {},
     "output_type": "display_data"
    },
    {
     "data": {
      "application/vnd.jupyter.widget-view+json": {
       "model_id": "138cf74cfb1844178253a2c0237d5d42",
       "version_major": 2,
       "version_minor": 0
      },
      "text/plain": [
       "interactive(children=(IntText(value=100, description='# Days'), Output()), _dom_classes=('widget-interact',))"
      ]
     },
     "metadata": {},
     "output_type": "display_data"
    }
   ],
   "source": [
    "%run etfs.ipynb"
   ]
  },
  {
   "cell_type": "code",
   "execution_count": null,
   "metadata": {},
   "outputs": [],
   "source": []
  }
 ],
 "metadata": {
  "kernelspec": {
   "display_name": "Python 3 (ipykernel)",
   "language": "python",
   "name": "python3"
  },
  "language_info": {
   "codemirror_mode": {
    "name": "ipython",
    "version": 3
   },
   "file_extension": ".py",
   "mimetype": "text/x-python",
   "name": "python",
   "nbconvert_exporter": "python",
   "pygments_lexer": "ipython3",
   "version": "3.10.8"
  }
 },
 "nbformat": 4,
 "nbformat_minor": 4
}
